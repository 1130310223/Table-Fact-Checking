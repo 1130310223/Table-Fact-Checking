{
 "cells": [
  {
   "cell_type": "code",
   "execution_count": 59,
   "metadata": {},
   "outputs": [],
   "source": [
    "def rule_based(name):\n",
    "    print \"------------------------------------------------------------------------------------\"\n",
    "    for k in range(len(data[name][0])):\n",
    "        sent = data[name][0][k]\n",
    "        label = data[name][1][k]\n",
    "\n",
    "        mapping = {}\n",
    "        print label, \":\",  sent \n",
    "        activations = []\n",
    "        for i, t in enumerate(tab.columns):\n",
    "            for j, v in enumerate(tab[t]):\n",
    "                if isinstance(v, str) and len(v.split(' ')) > 2:\n",
    "                    if fuzz.partial_ratio(v, sent) > 95:\n",
    "                        if t in mapping:\n",
    "                            mapping[t].append(j)\n",
    "                        else:\n",
    "                            mapping[t] = [j]\n",
    "                else:\n",
    "                    if str(v) in sent:\n",
    "                        if t in mapping:\n",
    "                            mapping[t].append(j)\n",
    "                        else:\n",
    "                            mapping[t] = [j]\n",
    "        result = None\n",
    "        for v in mapping.values():\n",
    "            if result is None:\n",
    "                result = set(v)\n",
    "            else:\n",
    "                result = result & set(v)\n",
    "        if result is None and label == 0:\n",
    "            print \"Success\"\n",
    "        elif result is None and label == 1:\n",
    "            print \"Fail\"\n",
    "        elif len(result) > 0 and label == 1:\n",
    "            print \"Success\"\n",
    "        elif len(result) == 0 and label == 0:\n",
    "            print \"Success\"\n",
    "        else:\n",
    "            print \"Fail\"\n",
    "        pprint.pprint(mapping)\n",
    "        print \"------------------------------------------------------------------------------------\""
   ]
  },
  {
   "cell_type": "code",
   "execution_count": 2,
   "metadata": {},
   "outputs": [
    {
     "ename": "IndentationError",
     "evalue": "expected an indented block (<ipython-input-2-74306129c71f>, line 15)",
     "output_type": "error",
     "traceback": [
      "\u001b[0;36m  File \u001b[0;32m\"<ipython-input-2-74306129c71f>\"\u001b[0;36m, line \u001b[0;32m15\u001b[0m\n\u001b[0;31m    break\u001b[0m\n\u001b[0m        ^\u001b[0m\n\u001b[0;31mIndentationError\u001b[0m\u001b[0;31m:\u001b[0m expected an indented block\n"
     ]
    }
   ],
   "source": [
    "import json\n",
    "import re\n",
    "\n",
    "with open('READY/r1_training_all.json') as f:\n",
    "    data = json.load(f)\n",
    "\n",
    "def handle_date(string):\n",
    "    re.sub(r'\\bjan\\b', 'Jan', string)\n",
    "    re.sub(r'\\bjanuary\\b', 'January', string)\n",
    "    re.sub(r'\\bfeb\\b', 'Feb', string)\n",
    "    re.sub(r'\\bjanuary\\b', 'January', string)\n",
    "    \n",
    "\n",
    "#new_data = []\n",
    "for k, v in data.iteritems():\n",
    "    for sent in v[0]:\n",
    "        \n",
    "    break"
   ]
  },
  {
   "cell_type": "code",
   "execution_count": 6,
   "metadata": {
    "scrolled": true
   },
   "outputs": [
    {
     "data": {
      "text/plain": [
       "'he is bjan'"
      ]
     },
     "execution_count": 6,
     "metadata": {},
     "output_type": "execute_result"
    }
   ],
   "source": [
    "import re\n",
    "\n",
    "re.sub(r'\\bjan\\b', 'January', \"he is bjan\")"
   ]
  },
  {
   "cell_type": "code",
   "execution_count": 11,
   "metadata": {},
   "outputs": [
    {
     "name": "stdout",
     "output_type": "stream",
     "text": [
      "67\n"
     ]
    }
   ],
   "source": [
    "from fuzzywuzzy import fuzz\n",
    "\n",
    "Str1 = \"new entries this round\"\n",
    "Str2 = \"new entries\"\n",
    "Ratio = fuzz.ratio(Str1.lower(),Str2.lower())\n",
    "print(Ratio)"
   ]
  }
 ],
 "metadata": {
  "kernelspec": {
   "display_name": "Python 2",
   "language": "python",
   "name": "python2"
  },
  "language_info": {
   "codemirror_mode": {
    "name": "ipython",
    "version": 2
   },
   "file_extension": ".py",
   "mimetype": "text/x-python",
   "name": "python",
   "nbconvert_exporter": "python",
   "pygments_lexer": "ipython2",
   "version": "2.7.16"
  }
 },
 "nbformat": 4,
 "nbformat_minor": 2
}
