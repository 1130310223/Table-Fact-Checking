{
 "cells": [
  {
   "cell_type": "code",
   "execution_count": 1,
   "metadata": {},
   "outputs": [
    {
     "ename": "SyntaxError",
     "evalue": "Missing parentheses in call to 'print'. Did you mean print(\"------------------------------------------------------------------------------------\")? (<ipython-input-1-0708421e52ba>, line 2)",
     "output_type": "error",
     "traceback": [
      "\u001b[0;36m  File \u001b[0;32m\"<ipython-input-1-0708421e52ba>\"\u001b[0;36m, line \u001b[0;32m2\u001b[0m\n\u001b[0;31m    print \"------------------------------------------------------------------------------------\"\u001b[0m\n\u001b[0m                                                                                               ^\u001b[0m\n\u001b[0;31mSyntaxError\u001b[0m\u001b[0;31m:\u001b[0m Missing parentheses in call to 'print'. Did you mean print(\"------------------------------------------------------------------------------------\")?\n"
     ]
    }
   ],
   "source": [
    "def rule_based(name):\n",
    "    print \"------------------------------------------------------------------------------------\"\n",
    "    for k in range(len(data[name][0])):\n",
    "        sent = data[name][0][k]\n",
    "        label = data[name][1][k]\n",
    "\n",
    "        mapping = {}\n",
    "        print label, \":\",  sent \n",
    "        activations = []\n",
    "        for i, t in enumerate(tab.columns):\n",
    "            for j, v in enumerate(tab[t]):\n",
    "                if isinstance(v, str) and len(v.split(' ')) > 2:\n",
    "                    if fuzz.partial_ratio(v, sent) > 95:\n",
    "                        if t in mapping:\n",
    "                            mapping[t].append(j)\n",
    "                        else:\n",
    "                            mapping[t] = [j]\n",
    "                else:\n",
    "                    if str(v) in sent:\n",
    "                        if t in mapping:\n",
    "                            mapping[t].append(j)\n",
    "                        else:\n",
    "                            mapping[t] = [j]\n",
    "        result = None\n",
    "        for v in mapping.values():\n",
    "            if result is None:\n",
    "                result = set(v)\n",
    "            else:\n",
    "                result = result & set(v)\n",
    "        if result is None and label == 0:\n",
    "            print \"Success\"\n",
    "        elif result is None and label == 1:\n",
    "            print \"Fail\"\n",
    "        elif len(result) > 0 and label == 1:\n",
    "            print \"Success\"\n",
    "        elif len(result) == 0 and label == 0:\n",
    "            print \"Success\"\n",
    "        else:\n",
    "            print \"Fail\"\n",
    "        pprint.pprint(mapping)\n",
    "        print \"------------------------------------------------------------------------------------\""
   ]
  },
  {
   "cell_type": "code",
   "execution_count": null,
   "metadata": {},
   "outputs": [],
   "source": [
    "import json\n",
    "import re\n",
    "\n",
    "with open('READY/r1_training_all.json') as f:\n",
    "    data = json.load(f)\n",
    "\n",
    "def handle_date(string):\n",
    "    re.sub(r'\\bjan\\b', 'Jan', string)\n",
    "    re.sub(r'\\bjanuary\\b', 'January', string)\n",
    "    re.sub(r'\\bfeb\\b', 'Feb', string)\n",
    "    re.sub(r'\\bjanuary\\b', 'January', string)\n",
    "    \n",
    "\n",
    "#new_data = []\n",
    "for k, v in data.iteritems():\n",
    "    for sent in v[0]:\n",
    "        \n",
    "    break"
   ]
  },
  {
   "cell_type": "code",
   "execution_count": null,
   "metadata": {
    "scrolled": true
   },
   "outputs": [],
   "source": [
    "import re\n",
    "\n",
    "re.sub(r'\\bjan\\b', 'January', \"he is bjan\")"
   ]
  },
  {
   "cell_type": "code",
   "execution_count": null,
   "metadata": {},
   "outputs": [],
   "source": [
    "from fuzzywuzzy import fuzz\n",
    "\n",
    "Str1 = \"new entries this round\"\n",
    "Str2 = \"new entries\"\n",
    "Ratio = fuzz.ratio(Str1.lower(),Str2.lower())\n",
    "print(Ratio)"
   ]
  },
  {
   "cell_type": "code",
   "execution_count": null,
   "metadata": {},
   "outputs": [],
   "source": [
    "import json\n",
    "\n",
    "with open('collected_data/r1_training_all.json') as f:\n",
    "    d1 = json.load(f)"
   ]
  },
  {
   "cell_type": "code",
   "execution_count": null,
   "metadata": {},
   "outputs": [],
   "source": [
    "print(len(d1))\n",
    "print(sum([len(_[0]) for k, _ in d1.items()]))"
   ]
  },
  {
   "cell_type": "code",
   "execution_count": null,
   "metadata": {},
   "outputs": [],
   "source": [
    "import json\n",
    "\n",
    "with open('collected_data/r2_training_all.json') as f:\n",
    "    d2 = json.load(f)"
   ]
  },
  {
   "cell_type": "code",
   "execution_count": null,
   "metadata": {
    "scrolled": true
   },
   "outputs": [],
   "source": [
    "print(len(d2))\n",
    "print(sum([len(_[0]) for k, _ in d2.items()]))"
   ]
  },
  {
   "cell_type": "code",
   "execution_count": null,
   "metadata": {},
   "outputs": [],
   "source": [
    "50244 + 68031"
   ]
  },
  {
   "cell_type": "code",
   "execution_count": 2,
   "metadata": {
    "scrolled": true
   },
   "outputs": [
    {
     "data": {
      "text/plain": [
       "16573"
      ]
     },
     "execution_count": 2,
     "metadata": {},
     "output_type": "execute_result"
    }
   ],
   "source": [
    "9181 + 7392"
   ]
  },
  {
   "cell_type": "code",
   "execution_count": 10,
   "metadata": {},
   "outputs": [],
   "source": [
    "import json\n",
    "with open('tokenized_data/full_cleaned.json') as f:\n",
    "    tokenized = json.load(f)"
   ]
  },
  {
   "cell_type": "code",
   "execution_count": 3,
   "metadata": {
    "scrolled": false
   },
   "outputs": [
    {
     "name": "stdout",
     "output_type": "stream",
     "text": [
      "13182\n",
      "1696\n",
      "1695\n"
     ]
    }
   ],
   "source": [
    "train_ids = json.load(open('data/train_id.json'))\n",
    "val_ids = json.load(open('data/val_id.json'))\n",
    "test_ids = json.load(open('data/test_id.json'))\n",
    "\n",
    "print(len(train_ids))\n",
    "print(len(val_ids))\n",
    "print(len(test_ids))"
   ]
  },
  {
   "cell_type": "code",
   "execution_count": 11,
   "metadata": {},
   "outputs": [],
   "source": [
    "import re\n",
    "pattern = re.compile('#([^;]+);[^#]+#')\n",
    "\n",
    "train_examples = {}\n",
    "val_examples = {}\n",
    "test_examples = {}\n",
    "\n",
    "train_count = 0\n",
    "val_count = 0\n",
    "test_count = 0\n",
    "for k in tokenized:\n",
    "    if k in train_ids:\n",
    "        v = tokenized[k]\n",
    "        new_stat = []\n",
    "        for stat in v[0]:\n",
    "            new_stat.append(re.sub(pattern, r'\\1', stat))\n",
    "            train_count += 1\n",
    "        train_examples[k] = v\n",
    "        train_examples[k][0] = new_stat\n",
    "        del train_examples[k][2]\n",
    "    elif k in val_ids:\n",
    "        v = tokenized[k]\n",
    "        new_stat = []\n",
    "        for stat in v[0]:\n",
    "            new_stat.append(re.sub(pattern, r'\\1', stat))\n",
    "            val_count += 1\n",
    "        val_examples[k] = v\n",
    "        val_examples[k][0] = new_stat     \n",
    "        del val_examples[k][2]\n",
    "    elif k in test_ids:\n",
    "        v = tokenized[k]\n",
    "        new_stat = []\n",
    "        for stat in v[0]:\n",
    "            new_stat.append(re.sub(pattern, r'\\1', stat))\n",
    "            test_count += 1\n",
    "        test_examples[k] = v\n",
    "        test_examples[k][0] = new_stat\n",
    "        del test_examples[k][2]\n",
    "        \n",
    "with open('tokenized_data/train_examples.json', 'w') as f:\n",
    "    json.dump(train_examples, f, indent=2)\n",
    "with open('tokenized_data/val_examples.json', 'w') as f:\n",
    "    json.dump(val_examples, f, indent=2)\n",
    "with open('tokenized_data/test_examples.json', 'w') as f:\n",
    "    json.dump(test_examples, f, indent=2)"
   ]
  },
  {
   "cell_type": "code",
   "execution_count": 6,
   "metadata": {},
   "outputs": [
    {
     "name": "stdout",
     "output_type": "stream",
     "text": [
      "92283\n",
      "12792\n",
      "12779\n"
     ]
    }
   ],
   "source": [
    "print(train_count)\n",
    "print(val_count)\n",
    "print(test_count)"
   ]
  }
 ],
 "metadata": {
  "kernelspec": {
   "display_name": "Python 3",
   "language": "python",
   "name": "python3"
  },
  "language_info": {
   "codemirror_mode": {
    "name": "ipython",
    "version": 3
   },
   "file_extension": ".py",
   "mimetype": "text/x-python",
   "name": "python",
   "nbconvert_exporter": "python",
   "pygments_lexer": "ipython3",
   "version": "3.7.3"
  }
 },
 "nbformat": 4,
 "nbformat_minor": 2
}
