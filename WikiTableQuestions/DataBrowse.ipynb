{
 "cells": [
  {
   "cell_type": "code",
   "execution_count": 38,
   "metadata": {
    "scrolled": false
   },
   "outputs": [],
   "source": [
    "import pandas"
   ]
  },
  {
   "cell_type": "code",
   "execution_count": 9,
   "metadata": {},
   "outputs": [],
   "source": [
    "# Renaissance is written in 1969\n",
    "# Illusion is played 2 years later than Renaissance\n",
    "# Grandine il Vento is the most recent movie"
   ]
  },
  {
   "cell_type": "code",
   "execution_count": 42,
   "metadata": {
    "scrolled": false
   },
   "outputs": [
    {
     "name": "stdout",
     "output_type": "stream",
     "text": [
      "    Year        Winner              Jockey                 Trainer  \\\n",
      "0   1919    Sir Barton       Johnny Loftus          H. Guy Bedwell   \n",
      "1   1930   Gallant Fox          Earl Sande         Jim Fitzsimmons   \n",
      "2   1935         Omaha     Willie Saunders         Jim Fitzsimmons   \n",
      "3   1937   War Admiral  Charley Kurtsinger        George H. Conway   \n",
      "4   1941     Whirlaway        Eddie Arcaro            Ben A. Jones   \n",
      "5   1943   Count Fleet      Johnny Longden             Don Cameron   \n",
      "6   1946       Assault     Warren Mehrtens              Max Hirsch   \n",
      "7   1948      Citation        Eddie Arcaro         Horace A. Jones   \n",
      "8   1973   Secretariat        Ron Turcotte           Lucien Laurin   \n",
      "9   1977  Seattle Slew        Jean Cruguet  William H. Turner, Jr.   \n",
      "10  1978      Affirmed       Steve Cauthen             Laz Barrera   \n",
      "\n",
      "               Owner           Breeder  \n",
      "0      J. K. L. Ross               NaN  \n",
      "1        Belair Stud       Belair Stud  \n",
      "2        Belair Stud       Belair Stud  \n",
      "3   Samuel D. Riddle  Samuel D. Riddle  \n",
      "4       Calumet Farm      Calumet Farm  \n",
      "5       Fannie Hertz      Fannie Hertz  \n",
      "6         King Ranch        King Ranch  \n",
      "7       Calumet Farm      Calumet Farm  \n",
      "8      Meadow Stable       Meadow Stud  \n",
      "9    Karen L. Taylor  Ben S. Castleman  \n",
      "10  Harbor View Farm  Harbor View Farm  \n",
      "                                               utterance    targetValue\n",
      "8599                       who rode secretariat in 1973?   Ron Turcotte\n",
      "10068  who was the breeder of the 1941 triple crown w...   Calumet Farm\n",
      "11425          what jockey won the triple crown in 1978?  Steve Cauthen\n",
      "12680  what is the first year there was a triple crow...           1919\n",
      "13238  in which year did seattle slew win the triple ...           1977\n"
     ]
    }
   ],
   "source": [
    "idx = 3\n",
    "\n",
    "print pandas.read_table('csv/200-csv/{}.tsv'.format(idx))\n",
    "data = pandas.read_table('data/training.tsv')\n",
    "print data[data.context == \"csv/200-csv/{}.csv\".format(idx)].filter(['utterance', 'targetValue'])"
   ]
  },
  {
   "cell_type": "code",
   "execution_count": null,
   "metadata": {},
   "outputs": [],
   "source": [
    "# Ron Turcotte rode secretariat in 1973\n",
    "# Calumet Farm was the breeder of the 1941 triple crown\n",
    "# Steve Cauthen won the triple crown in 1978\n",
    "# a triple crow"
   ]
  }
 ],
 "metadata": {
  "kernelspec": {
   "display_name": "Python 2",
   "language": "python",
   "name": "python2"
  },
  "language_info": {
   "codemirror_mode": {
    "name": "ipython",
    "version": 2
   },
   "file_extension": ".py",
   "mimetype": "text/x-python",
   "name": "python",
   "nbconvert_exporter": "python",
   "pygments_lexer": "ipython2",
   "version": "2.7.14"
  }
 },
 "nbformat": 4,
 "nbformat_minor": 2
}
