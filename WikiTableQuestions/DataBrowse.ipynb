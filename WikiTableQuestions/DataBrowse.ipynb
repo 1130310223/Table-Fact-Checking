{
 "cells": [
  {
   "cell_type": "code",
   "execution_count": 2,
   "metadata": {
    "scrolled": false
   },
   "outputs": [],
   "source": [
    "import pandas"
   ]
  },
  {
   "cell_type": "code",
   "execution_count": 9,
   "metadata": {},
   "outputs": [],
   "source": [
    "# Renaissance is written in 1969\n",
    "# Illusion is played 2 years later than Renaissance\n",
    "# Grandine il Vento is the most recent movie"
   ]
  },
  {
   "cell_type": "code",
   "execution_count": 3,
   "metadata": {
    "scrolled": false
   },
   "outputs": [
    {
     "name": "stdout",
     "output_type": "stream",
     "text": [
      "                                               utterance    targetValue\n",
      "8599                       who rode secretariat in 1973?   Ron Turcotte\n",
      "10068  who was the breeder of the 1941 triple crown w...   Calumet Farm\n",
      "11425          what jockey won the triple crown in 1978?  Steve Cauthen\n",
      "12680  what is the first year there was a triple crow...           1919\n",
      "13238  in which year did seattle slew win the triple ...           1977\n"
     ]
    }
   ],
   "source": [
    "idx = 3\n",
    "\n",
    "pandas.read_table('csv/200-csv/{}.tsv'.format(idx))\n",
    "data = pandas.read_table('data/training.tsv')\n",
    "print data[data.context == \"csv/200-csv/{}.csv\".format(idx)].filter(['utterance', 'targetValue'])"
   ]
  },
  {
   "cell_type": "code",
   "execution_count": null,
   "metadata": {},
   "outputs": [],
   "source": [
    "# Ron Turcotte rode secretariat in 1973\n",
    "# Calumet Farm was the breeder of the 1941 triple crown\n",
    "# Steve Cauthen won the triple crown in 1978\n",
    "# a triple crow"
   ]
  }
 ],
 "metadata": {
  "kernelspec": {
   "display_name": "Python 2",
   "language": "python",
   "name": "python2"
  },
  "language_info": {
   "codemirror_mode": {
    "name": "ipython",
    "version": 2
   },
   "file_extension": ".py",
   "mimetype": "text/x-python",
   "name": "python",
   "nbconvert_exporter": "python",
   "pygments_lexer": "ipython2",
   "version": "2.7.14"
  }
 },
 "nbformat": 4,
 "nbformat_minor": 2
}
